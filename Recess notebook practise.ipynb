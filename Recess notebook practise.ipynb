{
 "cells": [
  {
   "cell_type": "code",
   "execution_count": 3,
   "metadata": {},
   "outputs": [
    {
     "name": "stdout",
     "output_type": "stream",
     "text": [
      "Max1: 9\n",
      "Max2: 6\n"
     ]
    }
   ],
   "source": [
    "def max1(x, y):\n",
    "\n",
    "  #Takes comparable values x and y as arguments.\n",
    "\n",
    "  #Returns the larger of the two, implemented with if-else.\n",
    "\n",
    "  if x > y:\n",
    "\n",
    "     return x\n",
    "\n",
    "  else:\n",
    "\n",
    "     return y\n",
    "    \n",
    "def max2(x, y):\n",
    "\n",
    "  #Takes comparable values x and y as arguments.\n",
    "\n",
    "  #Returns the larger of the two, implemented with if (no else).\n",
    "\n",
    "  if x > y:\n",
    "\n",
    "     return x\n",
    "\n",
    "  return y\n",
    "\n",
    "\n",
    "\n",
    "a = 6\n",
    "\n",
    "b = 2\n",
    "\n",
    "print(\"Max1:\", max1(4, 9))\n",
    "\n",
    "print(\"Max2:\", max2(a, b))"
   ]
  },
  {
   "cell_type": "code",
   "execution_count": 7,
   "metadata": {},
   "outputs": [
    {
     "name": "stdout",
     "output_type": "stream",
     "text": [
      "False\n",
      "day 2.\n"
     ]
    }
   ],
   "source": [
    "def f(x):\n",
    "\n",
    "  #Prints and returns `x`.\n",
    "\n",
    "  print(x)\n",
    "\n",
    "  return x\n",
    "\n",
    "if f(False) and f(True):\n",
    "\n",
    "  print(\"day 3\")\n",
    "\n",
    "else:\n",
    "\n",
    "  print(\"day 2.\")"
   ]
  },
  {
   "cell_type": "code",
   "execution_count": 35,
   "metadata": {},
   "outputs": [
    {
     "name": "stdout",
     "output_type": "stream",
     "text": [
      "                          Country  Region\n",
      "0                         Algeria  AFRICA\n",
      "1                          Angola  AFRICA\n",
      "2                           Benin  AFRICA\n",
      "3                        Botswana  AFRICA\n",
      "4                         Burkina  AFRICA\n",
      "5                         Burundi  AFRICA\n",
      "6                        Cameroon  AFRICA\n",
      "7                      Cape Verde  AFRICA\n",
      "8        Central African Republic  AFRICA\n",
      "9                            Chad  AFRICA\n",
      "10                        Comoros  AFRICA\n",
      "11                          Congo  AFRICA\n",
      "12  Congo, Democratic Republic of  AFRICA\n",
      "13                       Djibouti  AFRICA\n",
      "14                          Egypt  AFRICA\n",
      "15              Equatorial Guinea  AFRICA\n",
      "16                        Eritrea  AFRICA\n",
      "17                       Ethiopia  AFRICA\n",
      "18                          Gabon  AFRICA\n",
      "19                         Gambia  AFRICA\n",
      "20                          Ghana  AFRICA\n",
      "21                         Guinea  AFRICA\n",
      "22                  Guinea-Bissau  AFRICA\n",
      "23                    Ivory Coast  AFRICA\n",
      "24                          Kenya  AFRICA\n",
      "25                        Lesotho  AFRICA\n",
      "26                        Liberia  AFRICA\n",
      "27                          Libya  AFRICA\n",
      "28                     Madagascar  AFRICA\n",
      "29                         Malawi  AFRICA\n",
      "30                           Mali  AFRICA\n",
      "31                     Mauritania  AFRICA\n",
      "32                      Mauritius  AFRICA\n",
      "33                        Morocco  AFRICA\n",
      "34                     Mozambique  AFRICA\n",
      "35                        Namibia  AFRICA\n",
      "36                          Niger  AFRICA\n",
      "37                        Nigeria  AFRICA\n",
      "38                         Rwanda  AFRICA\n",
      "39          Sao Tome and Principe  AFRICA\n",
      "40                        Senegal  AFRICA\n",
      "41                     Seychelles  AFRICA\n",
      "42                   Sierra Leone  AFRICA\n",
      "43                        Somalia  AFRICA\n",
      "44                   South Africa  AFRICA\n",
      "45                    South Sudan  AFRICA\n",
      "46                          Sudan  AFRICA\n",
      "47                      Swaziland  AFRICA\n",
      "48                       Tanzania  AFRICA\n",
      "49                           Togo  AFRICA\n",
      "50                        Tunisia  AFRICA\n",
      "51                         Uganda  AFRICA\n",
      "52                         Zambia  AFRICA\n",
      "53                       Zimbabwe  AFRICA\n"
     ]
    }
   ],
   "source": [
    "import pandas as pd\n",
    "\n",
    "import csv\n",
    "\n",
    "url=\"https://raw.githubusercontent.com/cs109/2014_data/master/countries.csv\"\n",
    "\n",
    "data=pd.read_csv(\"https://raw.githubusercontent.com/cs109/2014_data/master/countries.csv\")\n",
    "\n",
    "# print (data)\n",
    "\n",
    "# data = pd.read_csv(url,skiprows = 1)\n",
    "\n",
    "# c = data.tail()\n",
    "\n",
    "#c = data.head()\n",
    "\n",
    "# c = data[['Country','Region']]\n",
    "\n",
    "# c = data[['Country']]\n",
    "\n",
    "# c = data[['Region']]\n",
    "\n",
    "c = data[data.Region == 'AFRICA']\n",
    "\n",
    "# c = data[data.Region != 'AFRICA']\n",
    "\n",
    "# rint (c.Region == 'OCEANIA')\n",
    "\n",
    "print(c)\n",
    "\n",
    "c.to_csv(\"results/example.csv\")\n",
    "\n",
    "# print (c)"
   ]
  },
  {
   "cell_type": "code",
   "execution_count": 44,
   "metadata": {},
   "outputs": [
    {
     "ename": "SyntaxError",
     "evalue": "invalid syntax (<ipython-input-44-598421253bd8>, line 5)",
     "output_type": "error",
     "traceback": [
      "\u001b[1;36m  File \u001b[1;32m\"<ipython-input-44-598421253bd8>\"\u001b[1;36m, line \u001b[1;32m5\u001b[0m\n\u001b[1;33m    regions= ['AFRICA', 'ASIA', 'EUROPE']\u001b[0m\n\u001b[1;37m          ^\u001b[0m\n\u001b[1;31mSyntaxError\u001b[0m\u001b[1;31m:\u001b[0m invalid syntax\n"
     ]
    }
   ],
   "source": [
    "import matplotlib.pyplot as plt\n",
    "@matplotlib.inline\n",
    "# Some data\n",
    "\n",
    "regions= ['AFRICA', 'ASIA', 'EUROPE']\n",
    "fracs = [54, 48, 44]\n",
    "\n",
    "# Make square figures and axes\n",
    "plt.pie(fracs, labels=regions, autopct='%1.1f%%', shadow=True)\n",
    "plt.savefig('Pie Chart')\n",
    "plt.show"
   ]
  },
  {
   "cell_type": "code",
   "execution_count": null,
   "metadata": {
    "collapsed": true
   },
   "outputs": [],
   "source": []
  }
 ],
 "metadata": {
  "kernelspec": {
   "display_name": "Python 3",
   "language": "python",
   "name": "python3"
  },
  "language_info": {
   "codemirror_mode": {
    "name": "ipython",
    "version": 3
   },
   "file_extension": ".py",
   "mimetype": "text/x-python",
   "name": "python",
   "nbconvert_exporter": "python",
   "pygments_lexer": "ipython3",
   "version": "3.6.1"
  }
 },
 "nbformat": 4,
 "nbformat_minor": 2
}
